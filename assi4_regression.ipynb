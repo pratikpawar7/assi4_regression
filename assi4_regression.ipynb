{
 "cells": [
  {
   "cell_type": "code",
   "execution_count": null,
   "id": "91d1eb61-7ed0-400a-8c53-5fcea969689b",
   "metadata": {},
   "outputs": [],
   "source": [
    "'''\n",
    "Q1. What is Lasso Regression, and how does it differ from other regression techniques?\n",
    "'''\n",
    "Lasso Regression is the type of linear regression in which that include a penalty term \n",
    "based on the absolute  value of the coefficient.\n",
    "\n",
    "it is helping to selecting important feature.\n"
   ]
  },
  {
   "cell_type": "code",
   "execution_count": null,
   "id": "6b509ceb-5421-4b2c-a492-e98252c1b600",
   "metadata": {},
   "outputs": [],
   "source": [
    "'''\n",
    "Q2. What is the main advantage of using Lasso Regression in feature selection?\n",
    "'''\n",
    "The main advantage of using Lasso Regression in feature selection is that it can automatically\n",
    "select important features by shrinking some coefficients to exactly zero. \n",
    "This means it can eliminate irrelevant or less important predictors, leading to simpler, \n",
    "more interpretable models that are less likely to overfit.\n"
   ]
  },
  {
   "cell_type": "code",
   "execution_count": null,
   "id": "83661d91-244a-4ce0-9ddd-a3bcd864c9c1",
   "metadata": {},
   "outputs": [],
   "source": [
    "'''\n",
    "Q3. How do you interpret the coefficients of a Lasso Regression model?\n",
    "'''\n",
    "\n",
    "Zero Coefficients: If a coefficient is zero, it means that predictor \n",
    "                  is not important and has been excluded from the model.\n",
    "    \n",
    "Non-Zero Coefficients: The sign (positive or negative) and size indicate the\n",
    "                    direction and strength of the relationship between that predictor and the response variable.\n",
    "    \n",
    "Shrinkage: Non-zero coefficients are shrunk compared to ordinary linear regression \n",
    "           due to the penalty term, indicating more conservative estimates."
   ]
  },
  {
   "cell_type": "code",
   "execution_count": null,
   "id": "544236ee-9c43-4a11-8ae6-a246be515d3a",
   "metadata": {},
   "outputs": [],
   "source": [
    "'''\n",
    "Q4. What are the tuning parameters that can be adjusted in Lasso Regression, and how do they affect the\n",
    "model's performance?\n",
    "'''\n",
    "\n",
    "Lambda (α): The main tuning parameter in Lasso Regression.\n",
    "\n",
    "it add penelty to the cost function of the train data ."
   ]
  },
  {
   "cell_type": "code",
   "execution_count": null,
   "id": "da552ad7-b658-4e8d-b63c-0120e853750c",
   "metadata": {},
   "outputs": [],
   "source": [
    "'''\n",
    "Q5. Can Lasso Regression be used for non-linear regression problems? If yes, how?\n",
    "\n",
    "'''\n",
    "yes we can use Lasso regression as for the non linear regression problem . \n",
    "\n",
    "as used in linear regression by transforming the input feature for capture non-linear relationship."
   ]
  },
  {
   "cell_type": "code",
   "execution_count": null,
   "id": "fb0e17dc-4efe-419a-bedf-86223834de31",
   "metadata": {},
   "outputs": [],
   "source": [
    "'''\n",
    "Q6. What is the difference between Ridge Regression and Lasso Regression?\n",
    "'''\n",
    "\n",
    "Both the added penalty in the cost funtion for the improve the accuracy of the statistical model \n",
    "\n",
    "but the penalty added in the Ridge regression is sum of square of coefficient \n",
    "and the penalty added in the Rasso regression is sum of absolute value  of coefficient. \n",
    "\n",
    "Rasso regression do a feature selection \n",
    "but Ridge regression does not do the feature selection ,"
   ]
  },
  {
   "cell_type": "code",
   "execution_count": null,
   "id": "2015841a-491c-4dec-9727-1ad08d78159d",
   "metadata": {},
   "outputs": [],
   "source": [
    "'''\n",
    "Q7. Can Lasso Regression handle multicollinearity in the input features? If yes, how?\n",
    "'''\n",
    "\n",
    "Multicollinearity happen when two predictor or more predictor value in regression model \n",
    "is highly correlated.\n",
    "\n",
    "yes Lasso regression handle multicollinearity \n",
    " using : It does this by applying an L1 penalty to the coefficients, which can shrink some of them to zero"
   ]
  },
  {
   "cell_type": "code",
   "execution_count": null,
   "id": "bc48cbeb-3c6e-4ca7-811c-366e96fe88f3",
   "metadata": {},
   "outputs": [],
   "source": [
    "'''\n",
    "Q8. How do you choose the optimal value of the regularization parameter (lambda) in Lasso Regression?\n",
    "'''\n",
    "\n",
    "For choose The optimal value(lambda) we use cross validation technique . \n",
    "\n",
    "there are several technique of it :\n",
    "                                    Grid Search: \n",
    "                                    Regularization Path Algorithms: \n",
    "                                    Information Criteria:"
   ]
  },
  {
   "cell_type": "code",
   "execution_count": null,
   "id": "33bc4e2f-cea2-4af8-9f2b-2ec8cd1b2da6",
   "metadata": {},
   "outputs": [],
   "source": []
  },
  {
   "cell_type": "code",
   "execution_count": null,
   "id": "30f9b196-f1d9-4705-a4e1-66ff3dca4525",
   "metadata": {},
   "outputs": [],
   "source": []
  },
  {
   "cell_type": "code",
   "execution_count": null,
   "id": "a6abc59f-8922-429f-b46d-66765153666a",
   "metadata": {},
   "outputs": [],
   "source": []
  }
 ],
 "metadata": {
  "kernelspec": {
   "display_name": "Python 3 (ipykernel)",
   "language": "python",
   "name": "python3"
  },
  "language_info": {
   "codemirror_mode": {
    "name": "ipython",
    "version": 3
   },
   "file_extension": ".py",
   "mimetype": "text/x-python",
   "name": "python",
   "nbconvert_exporter": "python",
   "pygments_lexer": "ipython3",
   "version": "3.10.8"
  }
 },
 "nbformat": 4,
 "nbformat_minor": 5
}
